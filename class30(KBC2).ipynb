{
 "cells": [
  {
   "cell_type": "code",
   "execution_count": 127,
   "metadata": {},
   "outputs": [],
   "source": [
    "# <-----------------------DATABASE------------------------------->\n",
    "questions = ['What crop is NOT cultivated in Goa?','What do you call rice with coconut?','Today Cadbury uses high quality cocoa beans from which location?']\n",
    "options = [['Corn','Rice','Wheat','Maize'],['Masala Chawal','Masala Bhat','Chaval','Naryal Chawal'],['India','South Africa','North Africa','West Africa']]\n",
    "answers = ['Corn','Naryal Chawal','West Africa']\n",
    "weights = [[5,4,1,2],\n",
    "           [4,1,2,5],\n",
    "           [4,2,1,5]]\n",
    "\n",
    "win_amount =[0,1000,5000,10000]\n",
    "life_line_validity = {'50-50':1,'Audience Poll':1,'Flip the Question':1}\n"
   ]
  },
  {
   "cell_type": "code",
   "execution_count": 121,
   "metadata": {},
   "outputs": [
    {
     "name": "stdout",
     "output_type": "stream",
     "text": [
      "Life Lines are->\n",
      "    Press 1 for 50-50\n",
      "    Press 2 for Audience Poll\n",
      "    Press 3 for Flip the Question\n",
      "        \n",
      "Audience Poll: 4\n"
     ]
    },
    {
     "data": {
      "text/plain": [
       "2"
      ]
     },
     "execution_count": 121,
     "metadata": {},
     "output_type": "execute_result"
    }
   ],
   "source": [
    "\n",
    "def lifeLine(count):\n",
    "    while True:\n",
    "        print('''Life Lines are->\n",
    "    Press 1 for 50-50\n",
    "    Press 2 for Audience Poll\n",
    "    Press 3 for Flip the Question\n",
    "        ''')\n",
    "        ll = int(input(\"Which life line you want to use: \"))\n",
    "        if ll==1 and life_line_validity['50-50'] !=0:\n",
    "            life_line_validity['50-50'] -=1\n",
    "            import random\n",
    "            wrong_answers=options[count].copy()\n",
    "            wrong_answers.remove(answers[count])\n",
    "            rand = random.choice(wrong_answers)\n",
    "            print(f'Question{count} {questions[count]}') \n",
    "            ind=[options[count].index(answers[count]),options[count].index(rand)]\n",
    "            answ = [answers[count],rand]\n",
    "            ind,answ = zip(*sorted(zip(ind,answ)))\n",
    "            print(f'{ind[0]+1}) {answ[0]}\\n{ind[1]+1}) {answ[1]}')\n",
    "            option = int(input(\"Enter the option number here: \"))\n",
    "            return option\n",
    "        \n",
    "        elif ll==2 and life_line_validity['Audience Poll'] !=0:\n",
    "            life_line_validity['Audience Poll'] -=1\n",
    "            import random,math\n",
    "            wei =[5,4,2,1]\n",
    "            poll=[random.choice(wei) for i in range(0,10)]\n",
    "            res = sum(poll)/10\n",
    "            print(\"Audience Poll:\",math.ceil(res))\n",
    "            option = int(input(\"Enter the option number here: \"))\n",
    "            return option\n",
    "        \n",
    "        elif ll==3 and life_line_validity['Flip the Question'] !=0:\n",
    "            life_line_validity['Flip the Question'] -=1\n",
    "            print(f'Question{count} What is the SI unit of weight?')\n",
    "            print(\"1) Newton\\n2) Kilogram\\n3) Joule\\n4) Gram\") \n",
    "            option = int(input(\"Enter the option number here: \"))\n",
    "            return option\n",
    "        else:\n",
    "            print(\"Invalid input..... try again\")\n",
    "lifeLine(1)"
   ]
  },
  {
   "cell_type": "code",
   "execution_count": 125,
   "metadata": {},
   "outputs": [
    {
     "name": "stdout",
     "output_type": "stream",
     "text": [
      "{'50-50': 1, 'Audience Poll': 1, 'Flip the Question': 1}\n"
     ]
    }
   ],
   "source": [
    "print(life_line_validity)"
   ]
  },
  {
   "cell_type": "code",
   "execution_count": 122,
   "metadata": {},
   "outputs": [
    {
     "name": "stdout",
     "output_type": "stream",
     "text": [
      "Question3 Today Cadbury uses high quality cocoa beans from which location?\n",
      "1) India\n",
      "2) South Africa\n",
      "3) North Africa\n",
      "4) West Africa\n"
     ]
    }
   ],
   "source": [
    "def printQuestion(count):\n",
    "    print(f'Question{count+1} {questions[count]}')\n",
    "    for j in range(0,4):\n",
    "        print(f'{j+1}) {options[count][j]}')\n",
    "    \n",
    "printQuestion(2)"
   ]
  },
  {
   "cell_type": "code",
   "execution_count": 126,
   "metadata": {},
   "outputs": [
    {
     "name": "stdout",
     "output_type": "stream",
     "text": [
      "Welcome Deepak\n",
      "Rules:\n",
      " 1: You can quit the game anytime you want\n",
      " 2: You have to give the option number only as answer like 1,2,3 or 4\n",
      "Question1 What crop is NOT cultivated in Goa?\n",
      "1) Corn\n",
      "2) Rice\n",
      "3) Wheat\n",
      "4) Maize\n",
      "Life Lines are->\n",
      "    Press 1 for 50-50\n",
      "    Press 2 for Audience Poll\n",
      "    Press 3 for Flip the Question\n",
      "        \n",
      "Audience Poll: 3\n",
      "Wheat is the wrong answer and Corn is the correct answer\n",
      "Winning amount=0\n"
     ]
    }
   ],
   "source": [
    "count = 0\n",
    "# <--------------------------------------------------------------->\n",
    "user_name = input(\"Enter your username: \").title()\n",
    "print(\"Welcome\",user_name)\n",
    "print(\"Rules:\\n 1: You can quit the game anytime you want\\n 2: You have to give the option number only as answer like 1,2,3 or 4\")\n",
    "for i in range(0,3):\n",
    "    # choose = input(\"Do you want to play the game? press 1 to continue or press to exit\")\n",
    "    # if(choose=='1'):\n",
    "    #     \n",
    "    # else:\n",
    "    #     print(\"Thanks for playing the game\")\n",
    "    #     print(f'Winning amount={win_amount[count]}')\n",
    "    #     break\n",
    "    printQuestion(count)\n",
    "    ans = int(input(\"Enter the option number here: (press 0 for lifeline)\"))\n",
    "    if ans == 0:\n",
    "        ans = lifeLine(count)\n",
    "    if options[count][ans-1]==answers[count]:\n",
    "        print(f\"{options[count][ans-1]} is the correct answer\")\n",
    "        print(f'Winning amount={win_amount[count+1]}')\n",
    "        count+=1\n",
    "    else:\n",
    "        print(f\"{options[count][ans-1]} is the wrong answer and {answers[count]} is the correct answer\")\n",
    "        print(f'Winning amount={win_amount[count]}')\n",
    "        break"
   ]
  }
 ],
 "metadata": {
  "kernelspec": {
   "display_name": "Python 3",
   "language": "python",
   "name": "python3"
  },
  "language_info": {
   "codemirror_mode": {
    "name": "ipython",
    "version": 3
   },
   "file_extension": ".py",
   "mimetype": "text/x-python",
   "name": "python",
   "nbconvert_exporter": "python",
   "pygments_lexer": "ipython3",
   "version": "3.10.1"
  },
  "orig_nbformat": 4,
  "vscode": {
   "interpreter": {
    "hash": "b9aa67c5e78b0d6c10c9383426dc31b5f0d8421abbb317f85098041187b828fe"
   }
  }
 },
 "nbformat": 4,
 "nbformat_minor": 2
}
